{
  "nbformat": 4,
  "nbformat_minor": 5,
  "metadata": {
    "kernelspec": {
      "display_name": "Python 3",
      "language": "python",
      "name": "python3"
    },
    "language_info": {
      "codemirror_mode": {
        "name": "ipython",
        "version": 3
      },
      "file_extension": ".py",
      "mimetype": "text/x-python",
      "name": "python",
      "nbconvert_exporter": "python",
      "pygments_lexer": "ipython3",
      "version": "3.9.6"
    },
    "colab": {
      "name": "MNIST.ipynb",
      "provenance": [],
      "toc_visible": true
    },
    "accelerator": "GPU"
  },
  "cells": [
    {
      "cell_type": "markdown",
      "metadata": {
        "id": "s9Lo9aWGSgbI"
      },
      "source": [
        "# MNIST\n",
        "\n",
        "This notebook is a playground for experimenting with various computer vision paradigms on the [MNIST](http://yann.lecun.com/exdb/mnist/) dataset."
      ],
      "id": "s9Lo9aWGSgbI"
    },
    {
      "cell_type": "markdown",
      "metadata": {
        "id": "8QZGtyKGTUBM"
      },
      "source": [
        "Load the necesary libraries"
      ],
      "id": "8QZGtyKGTUBM"
    },
    {
      "cell_type": "code",
      "metadata": {
        "id": "liquid-brunei"
      },
      "source": [
        "import tensorflow as tf\n",
        "from tensorflow import keras\n",
        "from tensorflow.keras import layers\n",
        "import matplotlib.pyplot as plt\n",
        "import matplotlib.image as mpimg\n",
        "from itertools import product\n",
        "import numpy as np"
      ],
      "id": "liquid-brunei",
      "execution_count": 1,
      "outputs": []
    },
    {
      "cell_type": "markdown",
      "metadata": {
        "id": "6oLGBw8ITXdl"
      },
      "source": [
        "Download the MNIST dataset, which consists of 60000 training and 10000 test images of handwritten digits"
      ],
      "id": "6oLGBw8ITXdl"
    },
    {
      "cell_type": "code",
      "metadata": {
        "id": "oRmeAvIGTFp0",
        "colab": {
          "base_uri": "https://localhost:8080/"
        },
        "outputId": "ff9acf31-a647-40d6-a420-01e66ecf8f34"
      },
      "source": [
        "(x_train, y_train), (x_test, y_test) = keras.datasets.mnist.load_data()\n",
        "assert x_train.shape == (60000, 28, 28)\n",
        "assert x_test.shape == (10000, 28, 28)\n",
        "assert y_train.shape == (60000,)\n",
        "assert y_test.shape == (10000,)"
      ],
      "id": "oRmeAvIGTFp0",
      "execution_count": 2,
      "outputs": [
        {
          "output_type": "stream",
          "text": [
            "Downloading data from https://storage.googleapis.com/tensorflow/tf-keras-datasets/mnist.npz\n",
            "11493376/11490434 [==============================] - 0s 0us/step\n"
          ],
          "name": "stdout"
        }
      ]
    },
    {
      "cell_type": "markdown",
      "metadata": {
        "id": "SumJ0rTeUqmN"
      },
      "source": [
        "Let's take a look at some of the images"
      ],
      "id": "SumJ0rTeUqmN"
    },
    {
      "cell_type": "code",
      "metadata": {
        "id": "_VttzgxtTiIP",
        "colab": {
          "base_uri": "https://localhost:8080/",
          "height": 90
        },
        "outputId": "3cfdf75a-b860-4b99-f2f1-392bbdab9273"
      },
      "source": [
        "nr_of_images = 8\n",
        "\n",
        "fig = plt.figure(figsize=(10,10))\n",
        "\n",
        "for i in range(nr_of_images):\n",
        "  fig.add_subplot(1, nr_of_images, i+1)\n",
        "  plt.imshow(x_train[i], cmap=\"gray\")\n",
        "  plt.axis('off')\n"
      ],
      "id": "_VttzgxtTiIP",
      "execution_count": 3,
      "outputs": [
        {
          "output_type": "display_data",
          "data": {
            "image/png": "[encoded data removed]",
            "text/plain": [
              "<Figure size 720x720 with 8 Axes>"
            ]
          },
          "metadata": {
            "tags": [],
            "needs_background": "light"
          }
        }
      ]
    },
    {
      "cell_type": "markdown",
      "metadata": {
        "id": "-bOLCmCauGe-"
      },
      "source": [
        "## Feature Extraction"
      ],
      "id": "-bOLCmCauGe-"
    },
    {
      "cell_type": "markdown",
      "metadata": {
        "id": "3snFc_97ugu8"
      },
      "source": [
        "### Filter\n",
        "\n",
        "Let's experiment with various kernels and filter the images for various features."
      ],
      "id": "3snFc_97ugu8"
    },
    {
      "cell_type": "code",
      "metadata": {
        "id": "ldlq6e2LvPrC"
      },
      "source": [
        "def plot_kernels(kernels):\n",
        "  \"\"\" Plot the given kernels in one row\n",
        "\n",
        "  This will plot given kernels \n",
        "\n",
        "  Parameters:\n",
        "    kernels (list of Tensorflow.Tensor): An array containing 2d tensors with shape (n, n)\n",
        "                 \n",
        "  Returns:\n",
        "    None\n",
        "\n",
        "  Slight adaption of https://github.com/Kaggle/learntools/blob/355a5df6a66562de62254b723da1a9389b9acc49/learntools/computer_vision/visiontools.py\n",
        "\n",
        "  \"\"\"\n",
        "\n",
        "  nr_of_kernels = len(kernels)\n",
        "  \n",
        "  fig = plt.figure(figsize=(10, 10))\n",
        "\n",
        "  for i in range(nr_of_kernels):\n",
        "    kernel = np.array(kernels[i])\n",
        "    fig.add_subplot(1, nr_of_kernels, i+1)\n",
        "    cmap = plt.get_cmap('Blues_r')\n",
        "    thresh = (kernel.max()+kernel.min())/2\n",
        "    plt.imshow(kernel, cmap=cmap)\n",
        "    plt.axis('off')\n",
        "    rows, cols = kernel.shape\n",
        "    for r, c in product(range(rows), range(cols)):\n",
        "      val = kernel[r, c]\n",
        "      color = cmap(0) if val > thresh else cmap(255)\n",
        "      plt.text(c,r, val, \n",
        "              color=color, size=20,\n",
        "              horizontalalignment='center', verticalalignment='center')\n"
      ],
      "id": "ldlq6e2LvPrC",
      "execution_count": 4,
      "outputs": []
    },
    {
      "cell_type": "markdown",
      "metadata": {
        "id": "rAVxbGt8uzxl"
      },
      "source": [
        "#### Constant Kernel\n",
        "First define some kernels. We will start with common 3x3 kernels."
      ],
      "id": "rAVxbGt8uzxl"
    },
    {
      "cell_type": "code",
      "metadata": {
        "id": "EKpqq0QR1IrB",
        "outputId": "e2276316-e726-4899-f3e9-8ac2aaf45ca6",
        "colab": {
          "base_uri": "https://localhost:8080/",
          "height": 195
        }
      },
      "source": [
        "kernel1 = tf.constant([\n",
        "      [3,3,3],\n",
        "      [-3,-3,-3],\n",
        "      [3,3,3]\n",
        "])\n",
        "\n",
        "kernel2 = tf.constant([\n",
        "      [3,-3,3],\n",
        "      [3,-3,3],\n",
        "      [3,-3,3]\n",
        "])\n",
        "\n",
        "kernel3 = tf.constant([\n",
        "      [-3,-3,-3],\n",
        "      [-3,3,-3],\n",
        "      [-3,-3,-3]\n",
        "])\n",
        "\n",
        "constant_kernels = [kernel1, kernel2, kernel3]\n",
        "\n",
        "plot_kernels(constant_kernels)"
      ],
      "id": "EKpqq0QR1IrB",
      "execution_count": 5,
      "outputs": [
        {
          "output_type": "display_data",
          "data": {
            "image/png": "[encoded data removed]",
            "text/plain": [
              "<Figure size 720x720 with 3 Axes>"
            ]
          },
          "metadata": {
            "tags": [],
            "needs_background": "light"
          }
        }
      ]
    },
    {
      "cell_type": "code",
      "metadata": {
        "id": "pQq3qW323vnU",
        "outputId": "b3c56d5d-68d2-496f-a847-6815db918fac",
        "colab": {
          "base_uri": "https://localhost:8080/",
          "height": 35
        }
      },
      "source": [
        "image = x_train[0]\n",
        "kernel = constant_kernels[0]\n",
        "\n",
        "\n",
        "\"\"\"\n",
        "image_filter = tf.nn.conv2d(\n",
        "    input=image,\n",
        "    filters=kernel,\n",
        "    strides=1,\n",
        "    padding='SAME',\n",
        "  )\n",
        "\n",
        "plt.figure(figsize=(6, 6))\n",
        "plt.imshow(tf.squeeze(image_filter))\n",
        "plt.axis('off')\n",
        "plt.show();\n",
        "\"\"\""
      ],
      "id": "pQq3qW323vnU",
      "execution_count": 16,
      "outputs": [
        {
          "output_type": "execute_result",
          "data": {
            "application/vnd.google.colaboratory.intrinsic+json": {
              "type": "string"
            },
            "text/plain": [
              "\"\\nimage_filter = tf.nn.conv2d(\\n    input=image,\\n    filters=kernel,\\n    strides=1,\\n    padding='SAME',\\n  )\\n\\nplt.figure(figsize=(6, 6))\\nplt.imshow(tf.squeeze(image_filter))\\nplt.axis('off')\\nplt.show();\\n\""
            ]
          },
          "metadata": {
            "tags": []
          },
          "execution_count": 16
        }
      ]
    },
    {
      "cell_type": "markdown",
      "metadata": {
        "id": "DSXc_jcK05T7"
      },
      "source": [
        "#### Random Kernel\n",
        "Next we can also take some random kernels to see their results. However it might be more difficult to see the pattern here."
      ],
      "id": "DSXc_jcK05T7"
    },
    {
      "cell_type": "code",
      "metadata": {
        "id": "o5wTLIpcuz_K",
        "outputId": "9c0309bd-8993-4954-cd4e-9194db86f8d7",
        "colab": {
          "base_uri": "https://localhost:8080/",
          "height": 152
        }
      },
      "source": [
        "nr_of_random_kernels = 4\n",
        "\n",
        "random_kernels = [tf.random.uniform(shape=[3,3], minval=-3, maxval=3, dtype=tf.int32, seed=10) for i in range(nr_of_random_kernels)]\n",
        "\n",
        "\n",
        "plot_kernels(random_kernels)"
      ],
      "id": "o5wTLIpcuz_K",
      "execution_count": 12,
      "outputs": [
        {
          "output_type": "display_data",
          "data": {
            "image/png": "[encoded data removed]",
            "text/plain": [
              "<Figure size 720x720 with 4 Axes>"
            ]
          },
          "metadata": {
            "tags": [],
            "needs_background": "light"
          }
        }
      ]
    },
    {
      "cell_type": "code",
      "metadata": {
        "id": "nLQCImCHTr3Z"
      },
      "source": [
        "model = keras.Sequential([\n",
        "    layers.Conv2D(filters=64, kernel_size=3),\n",
        "])"
      ],
      "id": "nLQCImCHTr3Z",
      "execution_count": 8,
      "outputs": []
    },
    {
      "cell_type": "code",
      "metadata": {
        "id": "zVwrFujz7Jve"
      },
      "source": [
        ""
      ],
      "id": "zVwrFujz7Jve",
      "execution_count": null,
      "outputs": []
    }
  ]
}
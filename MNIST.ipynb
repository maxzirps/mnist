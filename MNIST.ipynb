{
  "nbformat": 4,
  "nbformat_minor": 5,
  "metadata": {
    "kernelspec": {
      "display_name": "Python 3",
      "language": "python",
      "name": "python3"
    },
    "language_info": {
      "codemirror_mode": {
        "name": "ipython",
        "version": 3
      },
      "file_extension": ".py",
      "mimetype": "text/x-python",
      "name": "python",
      "nbconvert_exporter": "python",
      "pygments_lexer": "ipython3",
      "version": "3.9.6"
    },
    "colab": {
      "name": "MNIST.ipynb",
      "provenance": []
    },
    "accelerator": "GPU"
  },
  "cells": [
    {
      "cell_type": "markdown",
      "metadata": {
        "id": "s9Lo9aWGSgbI"
      },
      "source": [
        "# MNIST\n",
        "\n",
        "This notebook is a playground for experimenting with various computer vision paradigms on the [MNIST](http://yann.lecun.com/exdb/mnist/) dataset."
      ],
      "id": "s9Lo9aWGSgbI"
    },
    {
      "cell_type": "markdown",
      "metadata": {
        "id": "8QZGtyKGTUBM"
      },
      "source": [
        "Load the necesary libraries"
      ],
      "id": "8QZGtyKGTUBM"
    },
    {
      "cell_type": "code",
      "metadata": {
        "id": "liquid-brunei"
      },
      "source": [
        "import tensorflow as tf\n",
        "from tensorflow import keras\n",
        "from tensorflow.keras import layers\n",
        "import matplotlib.pyplot as plt\n",
        "import matplotlib.image as mpimg\n",
        "from itertools import product\n",
        "import numpy as np\n",
        "import pandas as pd"
      ],
      "id": "liquid-brunei",
      "execution_count": 1,
      "outputs": []
    },
    {
      "cell_type": "markdown",
      "metadata": {
        "id": "6oLGBw8ITXdl"
      },
      "source": [
        "Download the MNIST dataset, which consists of 60000 training and 10000 test images of handwritten digits"
      ],
      "id": "6oLGBw8ITXdl"
    },
    {
      "cell_type": "code",
      "metadata": {
        "id": "oRmeAvIGTFp0",
        "colab": {
          "base_uri": "https://localhost:8080/"
        },
        "outputId": "cb985db8-85be-4223-8906-1f8ad0627a80"
      },
      "source": [
        "(x_train, y_train), (x_test, y_test) = keras.datasets.mnist.load_data()\n",
        "assert x_train.shape == (60000, 28, 28)\n",
        "assert x_test.shape == (10000, 28, 28)\n",
        "assert y_train.shape == (60000,)\n",
        "assert y_test.shape == (10000,)"
      ],
      "id": "oRmeAvIGTFp0",
      "execution_count": 2,
      "outputs": [
        {
          "output_type": "stream",
          "text": [
            "Downloading data from https://storage.googleapis.com/tensorflow/tf-keras-datasets/mnist.npz\n",
            "11493376/11490434 [==============================] - 0s 0us/step\n"
          ],
          "name": "stdout"
        }
      ]
    },
    {
      "cell_type": "markdown",
      "metadata": {
        "id": "SumJ0rTeUqmN"
      },
      "source": [
        "Let's take a look at some of the images"
      ],
      "id": "SumJ0rTeUqmN"
    },
    {
      "cell_type": "code",
      "metadata": {
        "id": "_VttzgxtTiIP",
        "colab": {
          "base_uri": "https://localhost:8080/",
          "height": 99
        },
        "outputId": "5d366663-48a3-4718-9cfe-9022d6c916e8"
      },
      "source": [
        "nr_of_images = 7\n",
        "\n",
        "fig = plt.figure(figsize=(10,10))\n",
        "\n",
        "for i in range(nr_of_images):\n",
        "  fig.add_subplot(1, nr_of_images, i+1)\n",
        "  plt.imshow(x_train[i], cmap=\"gray\")\n",
        "  plt.axis('off')\n"
      ],
      "id": "_VttzgxtTiIP",
      "execution_count": 3,
      "outputs": [
        {
          "output_type": "display_data",
          "data": {
            "image/png": "[encoded data removed]",
            "text/plain": [
              "<Figure size 720x720 with 7 Axes>"
            ]
          },
          "metadata": {
            "tags": [],
            "needs_background": "light"
          }
        }
      ]
    },
    {
      "cell_type": "markdown",
      "metadata": {
        "id": "-bOLCmCauGe-"
      },
      "source": [
        "## Feature Extraction"
      ],
      "id": "-bOLCmCauGe-"
    },
    {
      "cell_type": "markdown",
      "metadata": {
        "id": "3snFc_97ugu8"
      },
      "source": [
        "### Filter\n",
        "\n",
        "Let's experiment with various kernels and take a look at the feature maps."
      ],
      "id": "3snFc_97ugu8"
    },
    {
      "cell_type": "code",
      "metadata": {
        "id": "ldlq6e2LvPrC"
      },
      "source": [
        "def plot_kernels(kernels):\n",
        "  \"\"\" Plot the given kernels in one row\n",
        "\n",
        "  This will plot given kernels \n",
        "\n",
        "  Parameters:\n",
        "    kernels (list of Tensorflow.Tensor): An array containing 2d tensors with shape (n, n)\n",
        "                 \n",
        "  Returns:\n",
        "    None\n",
        "\n",
        "  Slight adaption of https://github.com/Kaggle/learntools/blob/355a5df6a66562de62254b723da1a9389b9acc49/learntools/computer_vision/visiontools.py\n",
        "\n",
        "  \"\"\"\n",
        "\n",
        "  nr_of_kernels = len(kernels)\n",
        "  \n",
        "  fig = plt.figure(figsize=(10, 10))\n",
        "\n",
        "  for i in range(nr_of_kernels):\n",
        "    kernel = np.array(kernels[i])\n",
        "    fig.add_subplot(1, nr_of_kernels, i+1)\n",
        "    cmap = plt.get_cmap('Blues_r')\n",
        "    thresh = (kernel.max()+kernel.min())/2\n",
        "    plt.imshow(kernel, cmap=cmap)\n",
        "    plt.axis('off')\n",
        "    rows, cols = kernel.shape\n",
        "    for r, c in product(range(rows), range(cols)):\n",
        "      val = kernel[r, c]\n",
        "      color = cmap(0) if val > thresh else cmap(255)\n",
        "      plt.text(c,r, val, \n",
        "              color=color, size=20,\n",
        "              horizontalalignment='center', verticalalignment='center')\n"
      ],
      "id": "ldlq6e2LvPrC",
      "execution_count": 4,
      "outputs": []
    },
    {
      "cell_type": "markdown",
      "metadata": {
        "id": "rAVxbGt8uzxl"
      },
      "source": [
        "#### Constant Kernel\n",
        "First define some kernels. We will start with common 3x3 kernels."
      ],
      "id": "rAVxbGt8uzxl"
    },
    {
      "cell_type": "code",
      "metadata": {
        "colab": {
          "base_uri": "https://localhost:8080/",
          "height": 195
        },
        "id": "EKpqq0QR1IrB",
        "outputId": "fcd42031-2d0a-4b31-dec0-d14393b1952f"
      },
      "source": [
        "kernel1 = tf.constant([\n",
        "      [3,3,3],\n",
        "      [-3,-3,-3],\n",
        "      [3,3,3]\n",
        "])\n",
        "\n",
        "kernel2 = tf.constant([\n",
        "      [3,-3,3],\n",
        "      [3,-3,3],\n",
        "      [3,-3,3]\n",
        "])\n",
        "\n",
        "kernel3 = tf.constant([\n",
        "      [-3,-3,-3],\n",
        "      [-3,3,-3],\n",
        "      [-3,-3,-3]\n",
        "])\n",
        "\n",
        "constant_kernels = [kernel1, kernel2, kernel3]\n",
        "\n",
        "plot_kernels(constant_kernels)"
      ],
      "id": "EKpqq0QR1IrB",
      "execution_count": 5,
      "outputs": [
        {
          "output_type": "display_data",
          "data": {
            "image/png": "[encoded data removed]",
            "text/plain": [
              "<Figure size 720x720 with 3 Axes>"
            ]
          },
          "metadata": {
            "tags": [],
            "needs_background": "light"
          }
        }
      ]
    },
    {
      "cell_type": "markdown",
      "metadata": {
        "id": "xD0ZDnBa2iv6"
      },
      "source": [
        "Now let's apply the filters on random images and take a look at their activations (=feature maps).\n",
        "The `tf.nn.conv2d` function, which computes a convolution, has certain requirements for its arguments:\n",
        "\n",
        "* the `input` tensor has to have the shape `[batch_shape, in_height, in_width, in_channels]`\n",
        "* the `filter` tensor has to have the shape `[filter_height, filter_width, in_channels, out_channels]`\n",
        "\n",
        "Checkout the [docs](https://www.tensorflow.org/api_docs/python/tf/nn/conv2d) for more information."
      ],
      "id": "xD0ZDnBa2iv6"
    },
    {
      "cell_type": "code",
      "metadata": {
        "id": "pQq3qW323vnU"
      },
      "source": [
        "def get_feature_map(image, kernel):\n",
        "\n",
        "  image = tf.image.convert_image_dtype(image, dtype=tf.float32)\n",
        "  image = tf.expand_dims(image, axis=-1)\n",
        "  image = tf.expand_dims(image, axis=0)\n",
        "  kernel = tf.reshape(kernel, [*kernel.shape, 1, 1])\n",
        "  kernel = tf.cast(kernel, dtype=tf.float32)\n",
        "\n",
        "  return tf.nn.conv2d(\n",
        "    input=image,\n",
        "    filters=kernel,\n",
        "    strides=1,\n",
        "    padding='SAME',\n",
        "  )\n",
        "\n",
        "def get_feature_maps(images, kernel):\n",
        "  feature_maps = []\n",
        "\n",
        "  for image in images:\n",
        "    feature_map = get_feature_map(image, kernel)\n",
        "    # remove dimensions of size 1, which were added before\n",
        "    feature_map = tf.squeeze(feature_map)\n",
        "    feature_maps.append(feature_map)\n",
        "\n",
        "  return feature_maps\n",
        "\n",
        "\n",
        "def plot_activations(images, kernel):\n",
        "  feature_maps = get_feature_maps(images, kernel)\n",
        "\n",
        "  fig = plt.figure(figsize=(10, 10))\n",
        "\n",
        "  for i in range(nr_of_images_to_compare):\n",
        "    fig.add_subplot(2, nr_of_images_to_compare, i+1)\n",
        "    plt.imshow(images[i], cmap=\"gray\")\n",
        "    plt.axis('off')\n",
        "    fig.add_subplot(1, nr_of_images_to_compare, i+1)\n",
        "    plt.imshow(feature_maps[i])\n",
        "    plt.axis('off')\n",
        "\n",
        "  return feature_maps"
      ],
      "id": "pQq3qW323vnU",
      "execution_count": 6,
      "outputs": []
    },
    {
      "cell_type": "code",
      "metadata": {
        "id": "P0cI4t-R8s_P",
        "colab": {
          "base_uri": "https://localhost:8080/",
          "height": 343
        },
        "outputId": "5a8eba27-1317-4e10-da80-95a6181a798b"
      },
      "source": [
        "nr_of_images_to_compare = 5\n",
        "\n",
        "images = [x_train[np.random.randint(0, x_train.shape[0]-1)] for i in range(nr_of_images_to_compare)]\n",
        "\n",
        "kernel = constant_kernels[0]\n",
        "\n",
        "kernel = tf.constant([\n",
        "  [1,1],\n",
        "  [-1,-1]\n",
        "])\n",
        "\n",
        "# You can change the kernel and use one of the constant kernels above\n",
        "\n",
        "print(kernel)\n",
        "\n",
        "feature_maps = plot_activations(images, kernel)\n",
        "\n"
      ],
      "id": "P0cI4t-R8s_P",
      "execution_count": 12,
      "outputs": [
        {
          "output_type": "stream",
          "text": [
            "tf.Tensor(\n",
            "[[ 3 -3  3]\n",
            " [ 3 -3  3]\n",
            " [ 3 -3  3]], shape=(3, 3), dtype=int32)\n"
          ],
          "name": "stdout"
        },
        {
          "output_type": "display_data",
          "data": {
            "image/png": "[encoded data removed]",
            "text/plain": [
              "<Figure size 720x720 with 10 Axes>"
            ]
          },
          "metadata": {
            "tags": [],
            "needs_background": "light"
          }
        }
      ]
    },
    {
      "cell_type": "markdown",
      "metadata": {
        "id": "yzyckGLrtq2R"
      },
      "source": [
        "## Compare various models and parameters"
      ],
      "id": "yzyckGLrtq2R"
    },
    {
      "cell_type": "markdown",
      "metadata": {
        "id": "DxkcLr2tzYz0"
      },
      "source": [
        "For the softmax function in the final layer we need our labels to consist of binary class matrices."
      ],
      "id": "DxkcLr2tzYz0"
    },
    {
      "cell_type": "code",
      "metadata": {
        "id": "rt8HaHvizXmd"
      },
      "source": [
        "num_classes = 10\n",
        "y_train = keras.utils.to_categorical(y_train, num_classes)"
      ],
      "id": "rt8HaHvizXmd",
      "execution_count": 13,
      "outputs": []
    },
    {
      "cell_type": "code",
      "metadata": {
        "id": "Bzk6r2erz6yx",
        "colab": {
          "base_uri": "https://localhost:8080/"
        },
        "outputId": "8f2bddc8-ba9d-441a-9e58-6b4258f88683"
      },
      "source": [
        "x_train.shape"
      ],
      "id": "Bzk6r2erz6yx",
      "execution_count": 14,
      "outputs": [
        {
          "output_type": "execute_result",
          "data": {
            "text/plain": [
              "(60000, 28, 28)"
            ]
          },
          "metadata": {
            "tags": []
          },
          "execution_count": 14
        }
      ]
    },
    {
      "cell_type": "markdown",
      "metadata": {
        "id": "w5uYHCJT0jEt"
      },
      "source": [
        "Keras needs the channel information for the images, but as seen in the output above, our training data has the shape (nr_of_images, height, width). For Keras to work it needs (nr_of_images, height, channel). Since we have only one channel, we will expand the data by one dimension, without actually changing the data.\n",
        "\n"
      ],
      "id": "w5uYHCJT0jEt"
    },
    {
      "cell_type": "code",
      "metadata": {
        "id": "05WL-F5g0-rm",
        "colab": {
          "base_uri": "https://localhost:8080/"
        },
        "outputId": "66688a87-0558-4fdf-9034-edaa333ab327"
      },
      "source": [
        "x_train = np.expand_dims(x_train, -1)\n",
        "x_train.shape"
      ],
      "id": "05WL-F5g0-rm",
      "execution_count": 15,
      "outputs": [
        {
          "output_type": "execute_result",
          "data": {
            "text/plain": [
              "(60000, 28, 28, 1)"
            ]
          },
          "metadata": {
            "tags": []
          },
          "execution_count": 15
        }
      ]
    },
    {
      "cell_type": "markdown",
      "metadata": {
        "id": "95b8yPwv1TiN"
      },
      "source": [
        "To see how `expand_dims` work, run this code."
      ],
      "id": "95b8yPwv1TiN"
    },
    {
      "cell_type": "code",
      "metadata": {
        "id": "JhDxXlVx1ZFN",
        "colab": {
          "base_uri": "https://localhost:8080/"
        },
        "outputId": "df5e2ad6-55af-4c1a-8716-5090f00d87ab"
      },
      "source": [
        "def expand_dims_explanation():\n",
        "  a = np.random.randint(5, size=5)\n",
        "  print(\"1D Array at start: {} \\nshape: {}\\n\".format(a, a.shape))\n",
        "  a = np.expand_dims(a,-1)\n",
        "  print(\"Adding one dimension: {} \\nshape: {}\\n\".format(a, a.shape))\n",
        "  a = np.expand_dims(a,-1)\n",
        "  print(\"Adding another dimension to make it 3D: {} \\nshape: {}\\n\".format(a, a.shape))\n",
        "\n",
        "expand_dims_explanation()"
      ],
      "id": "JhDxXlVx1ZFN",
      "execution_count": 16,
      "outputs": [
        {
          "output_type": "stream",
          "text": [
            "1D Array at start: [2 4 3 3 3] \n",
            "shape: (5,)\n",
            "\n",
            "Adding one dimension: [[2]\n",
            " [4]\n",
            " [3]\n",
            " [3]\n",
            " [3]] \n",
            "shape: (5, 1)\n",
            "\n",
            "Adding another dimension to make it 3D: [[[2]]\n",
            "\n",
            " [[4]]\n",
            "\n",
            " [[3]]\n",
            "\n",
            " [[3]]\n",
            "\n",
            " [[3]]] \n",
            "shape: (5, 1, 1)\n",
            "\n"
          ],
          "name": "stdout"
        }
      ]
    },
    {
      "cell_type": "markdown",
      "metadata": {
        "id": "wEqYN6zFuKVy"
      },
      "source": [
        "Let's start with a minimum viable model **(MVP)**."
      ],
      "id": "wEqYN6zFuKVy"
    },
    {
      "cell_type": "code",
      "metadata": {
        "id": "Wae4kmIvtvrh",
        "colab": {
          "base_uri": "https://localhost:8080/"
        },
        "outputId": "57347ca3-4b67-4a65-a169-163048493b79"
      },
      "source": [
        "num_classes = 10\n",
        "input_shape = (28, 28, 1)\n",
        "\n",
        "model = keras.Sequential(\n",
        "    [\n",
        "      layers.Conv2D(32, kernel_size=(3, 3), input_shape=input_shape, activation=\"relu\"),\n",
        "      layers.Flatten(),\n",
        "      layers.Dense(num_classes, activation=\"softmax\"),\n",
        "    ]\n",
        ")\n",
        "\n",
        "model.summary()"
      ],
      "id": "Wae4kmIvtvrh",
      "execution_count": 17,
      "outputs": [
        {
          "output_type": "stream",
          "text": [
            "Model: \"sequential_1\"\n",
            "_________________________________________________________________\n",
            "Layer (type)                 Output Shape              Param #   \n",
            "=================================================================\n",
            "conv2d_1 (Conv2D)            (None, 26, 26, 32)        320       \n",
            "_________________________________________________________________\n",
            "flatten (Flatten)            (None, 21632)             0         \n",
            "_________________________________________________________________\n",
            "dense (Dense)                (None, 10)                216330    \n",
            "=================================================================\n",
            "Total params: 216,650\n",
            "Trainable params: 216,650\n",
            "Non-trainable params: 0\n",
            "_________________________________________________________________\n"
          ],
          "name": "stdout"
        }
      ]
    },
    {
      "cell_type": "code",
      "metadata": {
        "id": "MWPjkugMuTt5",
        "colab": {
          "base_uri": "https://localhost:8080/"
        },
        "outputId": "6186e0c6-0c57-40af-9f58-57ce93bcbd6b"
      },
      "source": [
        "batch_size = 256\n",
        "epochs = 20\n",
        "\n",
        "model.compile(loss=\"categorical_crossentropy\", optimizer=\"adam\", metrics=[\"accuracy\"])\n",
        "\n",
        "history = model.fit(x_train, y_train, batch_size=batch_size, epochs=epochs, validation_split=0.1)"
      ],
      "id": "MWPjkugMuTt5",
      "execution_count": 18,
      "outputs": [
        {
          "output_type": "stream",
          "text": [
            "Epoch 1/20\n",
            "211/211 [==============================] - 4s 10ms/step - loss: 2.1826 - accuracy: 0.9101 - val_loss: 0.2298 - val_accuracy: 0.9640\n",
            "Epoch 2/20\n",
            "211/211 [==============================] - 2s 8ms/step - loss: 0.1363 - accuracy: 0.9735 - val_loss: 0.1886 - val_accuracy: 0.9712\n",
            "Epoch 3/20\n",
            "211/211 [==============================] - 2s 8ms/step - loss: 0.0584 - accuracy: 0.9847 - val_loss: 0.1591 - val_accuracy: 0.9763\n",
            "Epoch 4/20\n",
            "211/211 [==============================] - 2s 8ms/step - loss: 0.0303 - accuracy: 0.9912 - val_loss: 0.1644 - val_accuracy: 0.9757\n",
            "Epoch 5/20\n",
            "211/211 [==============================] - 2s 8ms/step - loss: 0.0179 - accuracy: 0.9944 - val_loss: 0.1569 - val_accuracy: 0.9785\n",
            "Epoch 6/20\n",
            "211/211 [==============================] - 2s 8ms/step - loss: 0.0138 - accuracy: 0.9954 - val_loss: 0.1544 - val_accuracy: 0.9785\n",
            "Epoch 7/20\n",
            "211/211 [==============================] - 2s 8ms/step - loss: 0.0153 - accuracy: 0.9950 - val_loss: 0.1784 - val_accuracy: 0.9773\n",
            "Epoch 8/20\n",
            "211/211 [==============================] - 2s 8ms/step - loss: 0.0247 - accuracy: 0.9929 - val_loss: 0.1893 - val_accuracy: 0.9768\n",
            "Epoch 9/20\n",
            "211/211 [==============================] - 2s 8ms/step - loss: 0.0208 - accuracy: 0.9939 - val_loss: 0.1978 - val_accuracy: 0.9775\n",
            "Epoch 10/20\n",
            "211/211 [==============================] - 2s 8ms/step - loss: 0.0189 - accuracy: 0.9950 - val_loss: 0.2167 - val_accuracy: 0.9748\n",
            "Epoch 11/20\n",
            "211/211 [==============================] - 2s 8ms/step - loss: 0.0224 - accuracy: 0.9942 - val_loss: 0.2035 - val_accuracy: 0.9778\n",
            "Epoch 12/20\n",
            "211/211 [==============================] - 2s 8ms/step - loss: 0.0177 - accuracy: 0.9951 - val_loss: 0.2241 - val_accuracy: 0.9765\n",
            "Epoch 13/20\n",
            "211/211 [==============================] - 2s 8ms/step - loss: 0.0150 - accuracy: 0.9956 - val_loss: 0.2218 - val_accuracy: 0.9762\n",
            "Epoch 14/20\n",
            "211/211 [==============================] - 2s 8ms/step - loss: 0.0182 - accuracy: 0.9954 - val_loss: 0.2118 - val_accuracy: 0.9788\n",
            "Epoch 15/20\n",
            "211/211 [==============================] - 2s 8ms/step - loss: 0.0162 - accuracy: 0.9959 - val_loss: 0.2541 - val_accuracy: 0.9762\n",
            "Epoch 16/20\n",
            "211/211 [==============================] - 2s 8ms/step - loss: 0.0186 - accuracy: 0.9955 - val_loss: 0.2339 - val_accuracy: 0.9763\n",
            "Epoch 17/20\n",
            "211/211 [==============================] - 2s 8ms/step - loss: 0.0176 - accuracy: 0.9952 - val_loss: 0.2180 - val_accuracy: 0.9757\n",
            "Epoch 18/20\n",
            "211/211 [==============================] - 2s 8ms/step - loss: 0.0081 - accuracy: 0.9978 - val_loss: 0.2467 - val_accuracy: 0.9763\n",
            "Epoch 19/20\n",
            "211/211 [==============================] - 2s 8ms/step - loss: 0.0089 - accuracy: 0.9976 - val_loss: 0.2434 - val_accuracy: 0.9798\n",
            "Epoch 20/20\n",
            "211/211 [==============================] - 2s 8ms/step - loss: 0.0082 - accuracy: 0.9978 - val_loss: 0.2561 - val_accuracy: 0.9810\n"
          ],
          "name": "stdout"
        }
      ]
    },
    {
      "cell_type": "markdown",
      "metadata": {
        "id": "BU5LpofO3J1U"
      },
      "source": [
        "Let's evaluate our model on the test set. We repeat some of the steps done for the train set."
      ],
      "id": "BU5LpofO3J1U"
    },
    {
      "cell_type": "code",
      "metadata": {
        "id": "dtZq_PnE3RWk"
      },
      "source": [
        "x_test = np.expand_dims(x_test, -1)"
      ],
      "id": "dtZq_PnE3RWk",
      "execution_count": 19,
      "outputs": []
    },
    {
      "cell_type": "code",
      "metadata": {
        "id": "PEOIiiJl3eBE"
      },
      "source": [
        "y_test = keras.utils.to_categorical(y_test, num_classes)"
      ],
      "id": "PEOIiiJl3eBE",
      "execution_count": 20,
      "outputs": []
    },
    {
      "cell_type": "code",
      "metadata": {
        "id": "m9srOwpT3Vp9",
        "colab": {
          "base_uri": "https://localhost:8080/"
        },
        "outputId": "e29291d7-6aad-4741-dfa9-7582f4285d8c"
      },
      "source": [
        "score = model.evaluate(x_test, y_test, verbose=0)\n",
        "print(\"Loss: {} \".format(score[0]))\n",
        "print(\"Accuracy: {} \".format(score[1]))"
      ],
      "id": "m9srOwpT3Vp9",
      "execution_count": 21,
      "outputs": [
        {
          "output_type": "stream",
          "text": [
            "Loss: 0.26162827014923096 \n",
            "Accuracy: 0.9728999733924866 \n"
          ],
          "name": "stdout"
        }
      ]
    },
    {
      "cell_type": "markdown",
      "metadata": {
        "id": "3MkKqwLr31pH"
      },
      "source": [
        "Though we have a pretty good accuracy, we see that the loss is also very high. Let's investigate the issue here."
      ],
      "id": "3MkKqwLr31pH"
    },
    {
      "cell_type": "code",
      "metadata": {
        "id": "okHdoJN5uT3P",
        "colab": {
          "base_uri": "https://localhost:8080/",
          "height": 513
        },
        "outputId": "f8594da3-57eb-457c-c8b7-1c484004151c"
      },
      "source": [
        "history_frame = pd.DataFrame(history.history)\n",
        "history_frame.loc[:, ['loss', 'val_loss']].plot()\n",
        "history_frame.loc[:, ['accuracy', 'val_accuracy']].plot();"
      ],
      "id": "okHdoJN5uT3P",
      "execution_count": 22,
      "outputs": [
        {
          "output_type": "display_data",
          "data": {
            "image/png": "[encoded data removed]",
            "text/plain": [
              "<Figure size 432x288 with 1 Axes>"
            ]
          },
          "metadata": {
            "tags": [],
            "needs_background": "light"
          }
        },
        {
          "output_type": "display_data",
          "data": {
            "image/png": "[encoded data removed]",
            "text/plain": [
              "<Figure size 432x288 with 1 Axes>"
            ]
          },
          "metadata": {
            "tags": [],
            "needs_background": "light"
          }
        }
      ]
    },
    {
      "cell_type": "markdown",
      "metadata": {
        "id": "LWw4o56C4azH"
      },
      "source": [
        "Taking a look at the graphs above, we can see that the gap between our validation metrics and other metrics is pretty big at the beginning and continues to grow with eath training step, indicating **overfitting**. Let's add some regularization with a **dropout** layer and see if this improves the result."
      ],
      "id": "LWw4o56C4azH"
    },
    {
      "cell_type": "code",
      "metadata": {
        "id": "vriowc6n2kVf",
        "colab": {
          "base_uri": "https://localhost:8080/"
        },
        "outputId": "5520e753-6e2c-4a79-c25a-df7e919431b2"
      },
      "source": [
        "model = keras.Sequential(\n",
        "    [\n",
        "      layers.Conv2D(32, kernel_size=(3, 3), input_shape=input_shape, activation=\"relu\"),\n",
        "      layers.Flatten(),\n",
        "      layers.Dropout(0.5),\n",
        "      layers.Dense(num_classes, activation=\"softmax\"),\n",
        "    ]\n",
        ")\n",
        "\n",
        "model.compile(loss=\"categorical_crossentropy\", optimizer=\"adam\", metrics=[\"accuracy\"])\n",
        "\n",
        "history = model.fit(x_train, y_train, batch_size=batch_size, epochs=epochs, validation_split=0.1)\n",
        "\n",
        "score = model.evaluate(x_test, y_test, verbose=0)"
      ],
      "id": "vriowc6n2kVf",
      "execution_count": null,
      "outputs": [
        {
          "output_type": "stream",
          "text": [
            "Epoch 1/20\n",
            "211/211 [==============================] - 3s 11ms/step - loss: 2.4882 - accuracy: 0.8926 - val_loss: 0.2397 - val_accuracy: 0.9698\n",
            "Epoch 2/20\n",
            "211/211 [==============================] - 2s 10ms/step - loss: 0.3041 - accuracy: 0.9539 - val_loss: 0.1539 - val_accuracy: 0.9738\n",
            "Epoch 3/20\n",
            "211/211 [==============================] - 2s 10ms/step - loss: 0.1705 - accuracy: 0.9649 - val_loss: 0.1219 - val_accuracy: 0.9780\n",
            "Epoch 4/20\n",
            "211/211 [==============================] - 2s 10ms/step - loss: 0.1146 - accuracy: 0.9724 - val_loss: 0.1032 - val_accuracy: 0.9792\n",
            "Epoch 5/20\n",
            "211/211 [==============================] - 2s 10ms/step - loss: 0.0899 - accuracy: 0.9764 - val_loss: 0.0950 - val_accuracy: 0.9802\n",
            "Epoch 6/20\n",
            "211/211 [==============================] - 2s 10ms/step - loss: 0.0716 - accuracy: 0.9795 - val_loss: 0.0968 - val_accuracy: 0.9818\n",
            "Epoch 7/20\n",
            "211/211 [==============================] - 2s 10ms/step - loss: 0.0563 - accuracy: 0.9830 - val_loss: 0.1005 - val_accuracy: 0.9808\n",
            "Epoch 8/20\n",
            "211/211 [==============================] - 2s 10ms/step - loss: 0.0526 - accuracy: 0.9841 - val_loss: 0.1054 - val_accuracy: 0.9813\n",
            "Epoch 9/20\n",
            "211/211 [==============================] - 2s 10ms/step - loss: 0.0505 - accuracy: 0.9842 - val_loss: 0.1134 - val_accuracy: 0.9782\n",
            "Epoch 10/20\n",
            "211/211 [==============================] - 2s 10ms/step - loss: 0.0475 - accuracy: 0.9858 - val_loss: 0.1115 - val_accuracy: 0.9798\n",
            "Epoch 11/20\n",
            "211/211 [==============================] - 2s 10ms/step - loss: 0.0402 - accuracy: 0.9871 - val_loss: 0.0936 - val_accuracy: 0.9803\n",
            "Epoch 12/20\n",
            " 76/211 [=========>....................] - ETA: 1s - loss: 0.0329 - accuracy: 0.9892"
          ],
          "name": "stdout"
        }
      ]
    },
    {
      "cell_type": "code",
      "metadata": {
        "id": "bHvq9dOM5Br3"
      },
      "source": [
        "history_frame = pd.DataFrame(history.history)\n",
        "history_frame.loc[:, ['loss', 'val_loss']].plot()\n",
        "history_frame.loc[:, ['accuracy', 'val_accuracy']].plot();"
      ],
      "id": "bHvq9dOM5Br3",
      "execution_count": null,
      "outputs": []
    },
    {
      "cell_type": "code",
      "metadata": {
        "id": "gnbJZhol50f1"
      },
      "source": [
        "score = model.evaluate(x_test, y_test, verbose=0)\n",
        "print(\"Loss: {} \".format(score[0]))\n",
        "print(\"Accuracy: {} \".format(score[1]))"
      ],
      "id": "gnbJZhol50f1",
      "execution_count": null,
      "outputs": []
    },
    {
      "cell_type": "code",
      "metadata": {
        "id": "x1KmMgnm8fA8"
      },
      "source": [
        ""
      ],
      "id": "x1KmMgnm8fA8",
      "execution_count": null,
      "outputs": []
    }
  ]
}
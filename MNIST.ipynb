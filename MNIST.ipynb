{
  "nbformat": 4,
  "nbformat_minor": 5,
  "metadata": {
    "kernelspec": {
      "display_name": "Python 3",
      "language": "python",
      "name": "python3"
    },
    "language_info": {
      "codemirror_mode": {
        "name": "ipython",
        "version": 3
      },
      "file_extension": ".py",
      "mimetype": "text/x-python",
      "name": "python",
      "nbconvert_exporter": "python",
      "pygments_lexer": "ipython3",
      "version": "3.9.6"
    },
    "colab": {
      "name": "MNIST.ipynb",
      "provenance": []
    },
    "accelerator": "GPU"
  },
  "cells": [
    {
      "cell_type": "markdown",
      "metadata": {
        "id": "s9Lo9aWGSgbI"
      },
      "source": [
        "# MNIST\n",
        "\n",
        "This notebook is a playground for experimenting with various computer vision paradigms on the [MNIST](http://yann.lecun.com/exdb/mnist/) dataset."
      ],
      "id": "s9Lo9aWGSgbI"
    },
    {
      "cell_type": "markdown",
      "metadata": {
        "id": "8QZGtyKGTUBM"
      },
      "source": [
        "Load the necesary libraries"
      ],
      "id": "8QZGtyKGTUBM"
    },
    {
      "cell_type": "code",
      "metadata": {
        "id": "liquid-brunei"
      },
      "source": [
        "import tensorflow as tf\n",
        "from tensorflow import keras\n",
        "from tensorflow.keras import layers\n",
        "import matplotlib.pyplot as plt\n",
        "import matplotlib.image as mpimg\n",
        "from itertools import product\n",
        "import numpy as np\n",
        "import pandas as pd"
      ],
      "id": "liquid-brunei",
      "execution_count": 2,
      "outputs": []
    },
    {
      "cell_type": "markdown",
      "metadata": {
        "id": "6oLGBw8ITXdl"
      },
      "source": [
        "Download the MNIST dataset, which consists of 60000 training and 10000 test images of handwritten digits"
      ],
      "id": "6oLGBw8ITXdl"
    },
    {
      "cell_type": "code",
      "metadata": {
        "id": "oRmeAvIGTFp0",
        "outputId": "2fefdf55-8baf-4b1d-eb4a-c9cfb3975afc",
        "colab": {
          "base_uri": "https://localhost:8080/"
        }
      },
      "source": [
        "(x_train, y_train), (x_test, y_test) = keras.datasets.mnist.load_data()\n",
        "assert x_train.shape == (60000, 28, 28)\n",
        "assert x_test.shape == (10000, 28, 28)\n",
        "assert y_train.shape == (60000,)\n",
        "assert y_test.shape == (10000,)"
      ],
      "id": "oRmeAvIGTFp0",
      "execution_count": 3,
      "outputs": [
        {
          "output_type": "stream",
          "text": [
            "Downloading data from https://storage.googleapis.com/tensorflow/tf-keras-datasets/mnist.npz\n",
            "11493376/11490434 [==============================] - 0s 0us/step\n"
          ],
          "name": "stdout"
        }
      ]
    },
    {
      "cell_type": "markdown",
      "metadata": {
        "id": "SumJ0rTeUqmN"
      },
      "source": [
        "Let's take a look at some of the images"
      ],
      "id": "SumJ0rTeUqmN"
    },
    {
      "cell_type": "code",
      "metadata": {
        "id": "_VttzgxtTiIP",
        "colab": {
          "base_uri": "https://localhost:8080/",
          "height": 99
        },
        "outputId": "73b4a2f7-10ef-4e86-fcba-4e670f9fe281"
      },
      "source": [
        "nr_of_images = 7\n",
        "\n",
        "fig = plt.figure(figsize=(10,10))\n",
        "\n",
        "for i in range(nr_of_images):\n",
        "  fig.add_subplot(1, nr_of_images, i+1)\n",
        "  plt.imshow(x_train[i], cmap=\"gray\")\n",
        "  plt.axis('off')\n"
      ],
      "id": "_VttzgxtTiIP",
      "execution_count": 35,
      "outputs": [
        {
          "output_type": "display_data",
          "data": {
            "image/png": "[encoded data removed]",
            "text/plain": [
              "<Figure size 720x720 with 7 Axes>"
            ]
          },
          "metadata": {
            "tags": [],
            "needs_background": "light"
          }
        }
      ]
    },
    {
      "cell_type": "markdown",
      "metadata": {
        "id": "-bOLCmCauGe-"
      },
      "source": [
        "## Feature Extraction"
      ],
      "id": "-bOLCmCauGe-"
    },
    {
      "cell_type": "markdown",
      "metadata": {
        "id": "3snFc_97ugu8"
      },
      "source": [
        "### Filter\n",
        "\n",
        "Let's experiment with various kernels and take a look at the feature maps."
      ],
      "id": "3snFc_97ugu8"
    },
    {
      "cell_type": "code",
      "metadata": {
        "id": "ldlq6e2LvPrC"
      },
      "source": [
        "def plot_kernels(kernels):\n",
        "  \"\"\" Plot the given kernels in one row\n",
        "\n",
        "  This will plot given kernels \n",
        "\n",
        "  Parameters:\n",
        "    kernels (list of Tensorflow.Tensor): An array containing 2d tensors with shape (n, n)\n",
        "                 \n",
        "  Returns:\n",
        "    None\n",
        "\n",
        "  Slight adaption of https://github.com/Kaggle/learntools/blob/355a5df6a66562de62254b723da1a9389b9acc49/learntools/computer_vision/visiontools.py\n",
        "\n",
        "  \"\"\"\n",
        "\n",
        "  nr_of_kernels = len(kernels)\n",
        "  \n",
        "  fig = plt.figure(figsize=(10, 10))\n",
        "\n",
        "  for i in range(nr_of_kernels):\n",
        "    kernel = np.array(kernels[i])\n",
        "    fig.add_subplot(1, nr_of_kernels, i+1)\n",
        "    cmap = plt.get_cmap('Blues_r')\n",
        "    thresh = (kernel.max()+kernel.min())/2\n",
        "    plt.imshow(kernel, cmap=cmap)\n",
        "    plt.axis('off')\n",
        "    rows, cols = kernel.shape\n",
        "    for r, c in product(range(rows), range(cols)):\n",
        "      val = kernel[r, c]\n",
        "      color = cmap(0) if val > thresh else cmap(255)\n",
        "      plt.text(c,r, val, \n",
        "              color=color, size=20,\n",
        "              horizontalalignment='center', verticalalignment='center')\n"
      ],
      "id": "ldlq6e2LvPrC",
      "execution_count": 5,
      "outputs": []
    },
    {
      "cell_type": "markdown",
      "metadata": {
        "id": "rAVxbGt8uzxl"
      },
      "source": [
        "#### Constant Kernel\n",
        "First define some kernels. We will start with common 3x3 kernels."
      ],
      "id": "rAVxbGt8uzxl"
    },
    {
      "cell_type": "code",
      "metadata": {
        "colab": {
          "base_uri": "https://localhost:8080/",
          "height": 195
        },
        "id": "EKpqq0QR1IrB",
        "outputId": "5f74e670-dafa-4d8d-e175-bf28507218c9"
      },
      "source": [
        "kernel1 = tf.constant([\n",
        "      [3,3,3],\n",
        "      [-3,-3,-3],\n",
        "      [3,3,3]\n",
        "])\n",
        "\n",
        "kernel2 = tf.constant([\n",
        "      [3,-3,3],\n",
        "      [3,-3,3],\n",
        "      [3,-3,3]\n",
        "])\n",
        "\n",
        "kernel3 = tf.constant([\n",
        "      [-3,-3,-3],\n",
        "      [-3,3,-3],\n",
        "      [-3,-3,-3]\n",
        "])\n",
        "\n",
        "constant_kernels = [kernel1, kernel2, kernel3]\n",
        "\n",
        "plot_kernels(constant_kernels)"
      ],
      "id": "EKpqq0QR1IrB",
      "execution_count": 6,
      "outputs": [
        {
          "output_type": "display_data",
          "data": {
            "image/png": "[encoded data removed]",
            "text/plain": [
              "<Figure size 720x720 with 3 Axes>"
            ]
          },
          "metadata": {
            "tags": [],
            "needs_background": "light"
          }
        }
      ]
    },
    {
      "cell_type": "markdown",
      "metadata": {
        "id": "xD0ZDnBa2iv6"
      },
      "source": [
        "Now let's apply the filters on random images and take a look at their activations (=feature maps).\n",
        "The `tf.nn.conv2d` function, which computes a convolution, has certain requirements for its arguments:\n",
        "\n",
        "* the `input` tensor has to have the shape `[batch_shape, in_height, in_width, in_channels]`\n",
        "* the `filter` tensor has to have the shape `[filter_height, filter_width, in_channels, out_channels]`\n",
        "\n",
        "Checkout the [docs](https://www.tensorflow.org/api_docs/python/tf/nn/conv2d) for more information."
      ],
      "id": "xD0ZDnBa2iv6"
    },
    {
      "cell_type": "code",
      "metadata": {
        "id": "pQq3qW323vnU"
      },
      "source": [
        "def get_feature_map(image, kernel):\n",
        "\n",
        "  image = tf.image.convert_image_dtype(image, dtype=tf.float32)\n",
        "  image = tf.expand_dims(image, axis=-1)\n",
        "  image = tf.expand_dims(image, axis=0)\n",
        "  kernel = tf.reshape(kernel, [*kernel.shape, 1, 1])\n",
        "  kernel = tf.cast(kernel, dtype=tf.float32)\n",
        "\n",
        "  return tf.nn.conv2d(\n",
        "    input=image,\n",
        "    filters=kernel,\n",
        "    strides=1,\n",
        "    padding='SAME',\n",
        "  )\n",
        "\n",
        "def get_feature_maps(images, kernel):\n",
        "  feature_maps = []\n",
        "\n",
        "  for image in images:\n",
        "    feature_map = get_feature_map(image, kernel)\n",
        "    # remove dimensions of size 1, which were added before\n",
        "    feature_map = tf.squeeze(feature_map)\n",
        "    feature_maps.append(feature_map)\n",
        "\n",
        "  return feature_maps\n",
        "\n",
        "\n",
        "def plot_activations(images, kernel):\n",
        "  feature_maps = get_feature_maps(images, kernel)\n",
        "\n",
        "  fig = plt.figure(figsize=(10, 10))\n",
        "\n",
        "  for i in range(nr_of_images_to_compare):\n",
        "    fig.add_subplot(2, nr_of_images_to_compare, i+1)\n",
        "    plt.imshow(images[i], cmap=\"gray\")\n",
        "    plt.axis('off')\n",
        "    fig.add_subplot(1, nr_of_images_to_compare, i+1)\n",
        "    plt.imshow(feature_maps[i])\n",
        "    plt.axis('off')\n",
        "\n",
        "  return feature_maps"
      ],
      "id": "pQq3qW323vnU",
      "execution_count": 159,
      "outputs": []
    },
    {
      "cell_type": "code",
      "metadata": {
        "id": "P0cI4t-R8s_P",
        "outputId": "47e4651d-45f2-4eb0-bf37-83ca32440a32",
        "colab": {
          "base_uri": "https://localhost:8080/",
          "height": 326
        }
      },
      "source": [
        "nr_of_images_to_compare = 5\n",
        "\n",
        "images = [x_train[np.random.randint(0, x_train.shape[0]-1)] for i in range(nr_of_images_to_compare)]\n",
        "\n",
        "kernel = constant_kernels[0]\n",
        "\n",
        "kernel = tf.constant([\n",
        "  [1,1],\n",
        "  [-1,-1]\n",
        "])\n",
        "\n",
        "print(kernel)\n",
        "\n",
        "feature_maps = plot_activations(images, kernel)\n",
        "\n"
      ],
      "id": "P0cI4t-R8s_P",
      "execution_count": 160,
      "outputs": [
        {
          "output_type": "stream",
          "text": [
            "tf.Tensor(\n",
            "[[ 1  1]\n",
            " [-1 -1]], shape=(2, 2), dtype=int32)\n"
          ],
          "name": "stdout"
        },
        {
          "output_type": "display_data",
          "data": {
            "image/png": "[encoded data removed]",
            "text/plain": [
              "<Figure size 720x720 with 10 Axes>"
            ]
          },
          "metadata": {
            "tags": [],
            "needs_background": "light"
          }
        }
      ]
    },
    {
      "cell_type": "markdown",
      "metadata": {
        "id": "DSXc_jcK05T7"
      },
      "source": [
        "#### Random Kernel\n",
        "Next we can also take some random kernels to see their results. However it might be more difficult to see the pattern here."
      ],
      "id": "DSXc_jcK05T7"
    },
    {
      "cell_type": "code",
      "metadata": {
        "colab": {
          "base_uri": "https://localhost:8080/",
          "height": 152
        },
        "id": "o5wTLIpcuz_K",
        "outputId": "76ea34af-b93b-494d-a354-9b5873b72fa6"
      },
      "source": [
        "nr_of_random_kernels = 4\n",
        "\n",
        "random_kernels = [tf.random.uniform(shape=[3,3], minval=-3, maxval=3, dtype=tf.int32, seed=10) for i in range(nr_of_random_kernels)]\n",
        "\n",
        "\n",
        "plot_kernels(random_kernels)"
      ],
      "id": "o5wTLIpcuz_K",
      "execution_count": null,
      "outputs": [
        {
          "output_type": "display_data",
          "data": {
            "image/png": "[encoded data removed]",
            "text/plain": [
              "<Figure size 720x720 with 4 Axes>"
            ]
          },
          "metadata": {
            "tags": [],
            "needs_background": "light"
          }
        }
      ]
    },
    {
      "cell_type": "code",
      "metadata": {
        "id": "nLQCImCHTr3Z"
      },
      "source": [
        "model = keras.Sequential([\n",
        "    layers.Conv2D(filters=64, kernel_size=3),\n",
        "])"
      ],
      "id": "nLQCImCHTr3Z",
      "execution_count": null,
      "outputs": []
    },
    {
      "cell_type": "markdown",
      "metadata": {
        "id": "yzyckGLrtq2R"
      },
      "source": [
        "## Compare various models and parameters"
      ],
      "id": "yzyckGLrtq2R"
    },
    {
      "cell_type": "markdown",
      "metadata": {
        "id": "DxkcLr2tzYz0"
      },
      "source": [
        "For the softmax function in the final layer we need our labels to consist of binary class matrices."
      ],
      "id": "DxkcLr2tzYz0"
    },
    {
      "cell_type": "code",
      "metadata": {
        "id": "rt8HaHvizXmd"
      },
      "source": [
        "y_train = keras.utils.to_categorical(y_train, num_classes)"
      ],
      "id": "rt8HaHvizXmd",
      "execution_count": null,
      "outputs": []
    },
    {
      "cell_type": "code",
      "metadata": {
        "id": "Bzk6r2erz6yx",
        "colab": {
          "base_uri": "https://localhost:8080/"
        },
        "outputId": "58d88ad5-a7aa-4e41-adbd-1844c0d255ea"
      },
      "source": [
        "x_train.shape"
      ],
      "id": "Bzk6r2erz6yx",
      "execution_count": null,
      "outputs": [
        {
          "output_type": "execute_result",
          "data": {
            "text/plain": [
              "(60000, 28, 28)"
            ]
          },
          "metadata": {
            "tags": []
          },
          "execution_count": 58
        }
      ]
    },
    {
      "cell_type": "markdown",
      "metadata": {
        "id": "w5uYHCJT0jEt"
      },
      "source": [
        "Keras needs the channel information for the images, but as seen in the output above, our training data has the shape (nr_of_images, height, width). For Keras to work it needs (nr_of_images, height, channel). Since we have only one channel, we will expand the data by one dimension, without actually changing the data.\n",
        "\n"
      ],
      "id": "w5uYHCJT0jEt"
    },
    {
      "cell_type": "code",
      "metadata": {
        "id": "05WL-F5g0-rm",
        "colab": {
          "base_uri": "https://localhost:8080/"
        },
        "outputId": "17be2acc-30a3-4d09-98a2-4568c538af82"
      },
      "source": [
        "x_train = np.expand_dims(x_train, -1)\n",
        "x_train.shape"
      ],
      "id": "05WL-F5g0-rm",
      "execution_count": null,
      "outputs": [
        {
          "output_type": "execute_result",
          "data": {
            "text/plain": [
              "(60000, 28, 28, 1)"
            ]
          },
          "metadata": {
            "tags": []
          },
          "execution_count": 59
        }
      ]
    },
    {
      "cell_type": "markdown",
      "metadata": {
        "id": "95b8yPwv1TiN"
      },
      "source": [
        "To see how `expand_dims` work, run this code."
      ],
      "id": "95b8yPwv1TiN"
    },
    {
      "cell_type": "code",
      "metadata": {
        "id": "JhDxXlVx1ZFN",
        "colab": {
          "base_uri": "https://localhost:8080/"
        },
        "outputId": "1ba65e46-3b03-4674-bd38-99bef9146d05"
      },
      "source": [
        "def expand_dims_explanation():\n",
        "  a = np.random.randint(5, size=5)\n",
        "  print(\"1D Array at start: {} \\nshape: {}\\n\".format(a, a.shape))\n",
        "  a = np.expand_dims(a,-1)\n",
        "  print(\"Adding one dimension: {} \\nshape: {}\\n\".format(a, a.shape))\n",
        "  a = np.expand_dims(a,-1)\n",
        "  print(\"Adding another dimension to make it 3D: {} \\nshape: {}\\n\".format(a, a.shape))\n",
        "\n",
        "expand_dims_explanation()"
      ],
      "id": "JhDxXlVx1ZFN",
      "execution_count": null,
      "outputs": [
        {
          "output_type": "stream",
          "text": [
            "1D Array at start: [3 4 4 3 4] \n",
            "shape: (5,)\n",
            "\n",
            "Adding one dimension: [[3]\n",
            " [4]\n",
            " [4]\n",
            " [3]\n",
            " [4]] \n",
            "shape: (5, 1)\n",
            "\n",
            "Adding another dimension to make it 3D: [[[3]]\n",
            "\n",
            " [[4]]\n",
            "\n",
            " [[4]]\n",
            "\n",
            " [[3]]\n",
            "\n",
            " [[4]]] \n",
            "shape: (5, 1, 1)\n",
            "\n"
          ],
          "name": "stdout"
        }
      ]
    },
    {
      "cell_type": "markdown",
      "metadata": {
        "id": "wEqYN6zFuKVy"
      },
      "source": [
        "Let's start with a minimum viable model **(MVP)**."
      ],
      "id": "wEqYN6zFuKVy"
    },
    {
      "cell_type": "code",
      "metadata": {
        "id": "Wae4kmIvtvrh",
        "colab": {
          "base_uri": "https://localhost:8080/"
        },
        "outputId": "74a04cd3-6b3f-43ce-d7d5-f6bf5c169d88"
      },
      "source": [
        "num_classes = 10\n",
        "input_shape = (28, 28, 1)\n",
        "\n",
        "model = keras.Sequential(\n",
        "    [\n",
        "      layers.Conv2D(32, kernel_size=(3, 3), input_shape=input_shape, activation=\"relu\"),\n",
        "      layers.Flatten(),\n",
        "      layers.Dense(num_classes, activation=\"softmax\"),\n",
        "    ]\n",
        ")\n",
        "\n",
        "model.summary()"
      ],
      "id": "Wae4kmIvtvrh",
      "execution_count": null,
      "outputs": [
        {
          "output_type": "stream",
          "text": [
            "Model: \"sequential_19\"\n",
            "_________________________________________________________________\n",
            "Layer (type)                 Output Shape              Param #   \n",
            "=================================================================\n",
            "conv2d_19 (Conv2D)           (None, 26, 26, 32)        320       \n",
            "_________________________________________________________________\n",
            "flatten_18 (Flatten)         (None, 21632)             0         \n",
            "_________________________________________________________________\n",
            "dense_29 (Dense)             (None, 10)                216330    \n",
            "=================================================================\n",
            "Total params: 216,650\n",
            "Trainable params: 216,650\n",
            "Non-trainable params: 0\n",
            "_________________________________________________________________\n"
          ],
          "name": "stdout"
        }
      ]
    },
    {
      "cell_type": "code",
      "metadata": {
        "id": "MWPjkugMuTt5",
        "colab": {
          "base_uri": "https://localhost:8080/"
        },
        "outputId": "d0f235f8-2ee0-409d-9c8a-d30fa9d55690"
      },
      "source": [
        "batch_size = 256\n",
        "epochs = 20\n",
        "\n",
        "model.compile(loss=\"categorical_crossentropy\", optimizer=\"adam\", metrics=[\"accuracy\"])\n",
        "\n",
        "history = model.fit(x_train, y_train, batch_size=batch_size, epochs=epochs, validation_split=0.1)"
      ],
      "id": "MWPjkugMuTt5",
      "execution_count": null,
      "outputs": [
        {
          "output_type": "stream",
          "text": [
            "Epoch 1/20\n",
            "211/211 [==============================] - 2s 7ms/step - loss: 0.0613 - accuracy: 0.9831 - val_loss: 0.1006 - val_accuracy: 0.9812\n",
            "Epoch 2/20\n",
            "211/211 [==============================] - 1s 7ms/step - loss: 0.0434 - accuracy: 0.9873 - val_loss: 0.1037 - val_accuracy: 0.9803\n",
            "Epoch 3/20\n",
            "211/211 [==============================] - 1s 6ms/step - loss: 0.0410 - accuracy: 0.9886 - val_loss: 0.1038 - val_accuracy: 0.9813\n",
            "Epoch 4/20\n",
            "211/211 [==============================] - 1s 7ms/step - loss: 0.0366 - accuracy: 0.9890 - val_loss: 0.1128 - val_accuracy: 0.9803\n",
            "Epoch 5/20\n",
            "211/211 [==============================] - 1s 6ms/step - loss: 0.0364 - accuracy: 0.9889 - val_loss: 0.1109 - val_accuracy: 0.9827\n",
            "Epoch 6/20\n",
            "211/211 [==============================] - 1s 6ms/step - loss: 0.0380 - accuracy: 0.9891 - val_loss: 0.1036 - val_accuracy: 0.9842\n",
            "Epoch 7/20\n",
            "211/211 [==============================] - 1s 6ms/step - loss: 0.0313 - accuracy: 0.9906 - val_loss: 0.1102 - val_accuracy: 0.9840\n",
            "Epoch 8/20\n",
            "211/211 [==============================] - 1s 6ms/step - loss: 0.0322 - accuracy: 0.9908 - val_loss: 0.1072 - val_accuracy: 0.9837\n",
            "Epoch 9/20\n",
            "211/211 [==============================] - 1s 6ms/step - loss: 0.0356 - accuracy: 0.9895 - val_loss: 0.1107 - val_accuracy: 0.9842\n",
            "Epoch 10/20\n",
            "211/211 [==============================] - 1s 6ms/step - loss: 0.0280 - accuracy: 0.9914 - val_loss: 0.1089 - val_accuracy: 0.9807\n",
            "Epoch 11/20\n",
            "211/211 [==============================] - 1s 6ms/step - loss: 0.0312 - accuracy: 0.9913 - val_loss: 0.1252 - val_accuracy: 0.9840\n",
            "Epoch 12/20\n",
            "211/211 [==============================] - 1s 7ms/step - loss: 0.0321 - accuracy: 0.9913 - val_loss: 0.1347 - val_accuracy: 0.9847\n",
            "Epoch 13/20\n",
            "211/211 [==============================] - 1s 6ms/step - loss: 0.0286 - accuracy: 0.9917 - val_loss: 0.1279 - val_accuracy: 0.9840\n",
            "Epoch 14/20\n",
            "211/211 [==============================] - 1s 7ms/step - loss: 0.0321 - accuracy: 0.9909 - val_loss: 0.1319 - val_accuracy: 0.9837\n",
            "Epoch 15/20\n",
            "211/211 [==============================] - 1s 7ms/step - loss: 0.0284 - accuracy: 0.9919 - val_loss: 0.1368 - val_accuracy: 0.9830\n",
            "Epoch 16/20\n",
            "211/211 [==============================] - 1s 7ms/step - loss: 0.0307 - accuracy: 0.9915 - val_loss: 0.1252 - val_accuracy: 0.9815\n",
            "Epoch 17/20\n",
            "211/211 [==============================] - 1s 6ms/step - loss: 0.0287 - accuracy: 0.9921 - val_loss: 0.1386 - val_accuracy: 0.9838\n",
            "Epoch 18/20\n",
            "211/211 [==============================] - 1s 6ms/step - loss: 0.0246 - accuracy: 0.9931 - val_loss: 0.1317 - val_accuracy: 0.9832\n",
            "Epoch 19/20\n",
            "211/211 [==============================] - 1s 6ms/step - loss: 0.0288 - accuracy: 0.9918 - val_loss: 0.1345 - val_accuracy: 0.9838\n",
            "Epoch 20/20\n",
            "211/211 [==============================] - 1s 6ms/step - loss: 0.0285 - accuracy: 0.9919 - val_loss: 0.1369 - val_accuracy: 0.9850\n"
          ],
          "name": "stdout"
        }
      ]
    },
    {
      "cell_type": "markdown",
      "metadata": {
        "id": "BU5LpofO3J1U"
      },
      "source": [
        "Let's evaluate our model on the test set. We repeat some of the steps done for the train set."
      ],
      "id": "BU5LpofO3J1U"
    },
    {
      "cell_type": "code",
      "metadata": {
        "id": "dtZq_PnE3RWk"
      },
      "source": [
        "x_test = np.expand_dims(x_test, -1)"
      ],
      "id": "dtZq_PnE3RWk",
      "execution_count": null,
      "outputs": []
    },
    {
      "cell_type": "code",
      "metadata": {
        "id": "PEOIiiJl3eBE"
      },
      "source": [
        "y_test = keras.utils.to_categorical(y_test, num_classes)"
      ],
      "id": "PEOIiiJl3eBE",
      "execution_count": null,
      "outputs": []
    },
    {
      "cell_type": "code",
      "metadata": {
        "id": "m9srOwpT3Vp9",
        "colab": {
          "base_uri": "https://localhost:8080/"
        },
        "outputId": "7abf2aad-2f8b-4220-f3c1-c39f655d3b32"
      },
      "source": [
        "score = model.evaluate(x_test, y_test, verbose=0)\n",
        "print(\"Loss: {} \".format(score[0]))\n",
        "print(\"Accuracy: {} \".format(score[1]))"
      ],
      "id": "m9srOwpT3Vp9",
      "execution_count": null,
      "outputs": [
        {
          "output_type": "stream",
          "text": [
            "Loss: 0.16912037134170532 \n",
            "Accuracy: 0.9789000153541565 \n"
          ],
          "name": "stdout"
        }
      ]
    },
    {
      "cell_type": "markdown",
      "metadata": {
        "id": "3MkKqwLr31pH"
      },
      "source": [
        "Though we have a pretty good accuracy, we see that the loss is also very high. Let's investigate the issue here."
      ],
      "id": "3MkKqwLr31pH"
    },
    {
      "cell_type": "code",
      "metadata": {
        "id": "okHdoJN5uT3P",
        "colab": {
          "base_uri": "https://localhost:8080/",
          "height": 513
        },
        "outputId": "2199d2e4-d4b0-42b2-fe92-3262fd58c4c3"
      },
      "source": [
        "history_frame = pd.DataFrame(history.history)\n",
        "history_frame.loc[:, ['loss', 'val_loss']].plot()\n",
        "history_frame.loc[:, ['accuracy', 'val_accuracy']].plot();"
      ],
      "id": "okHdoJN5uT3P",
      "execution_count": null,
      "outputs": [
        {
          "output_type": "display_data",
          "data": {
            "image/png": "[encoded data removed]",
            "text/plain": [
              "<Figure size 432x288 with 1 Axes>"
            ]
          },
          "metadata": {
            "tags": [],
            "needs_background": "light"
          }
        },
        {
          "output_type": "display_data",
          "data": {
            "image/png": "[encoded data removed]",
            "text/plain": [
              "<Figure size 432x288 with 1 Axes>"
            ]
          },
          "metadata": {
            "tags": [],
            "needs_background": "light"
          }
        }
      ]
    },
    {
      "cell_type": "markdown",
      "metadata": {
        "id": "LWw4o56C4azH"
      },
      "source": [
        "Taking a look at the graphs above, we can see that the gap between our validation metrics and other metrics is pretty big at the beginning and continues to grow with eath training step, indicating **overfitting**. Let's add some regularization with a **dropout** layer and see if this improves the result."
      ],
      "id": "LWw4o56C4azH"
    },
    {
      "cell_type": "code",
      "metadata": {
        "id": "vriowc6n2kVf",
        "colab": {
          "base_uri": "https://localhost:8080/"
        },
        "outputId": "a38f786e-cefb-489c-c1e2-361a8a772192"
      },
      "source": [
        "model = keras.Sequential(\n",
        "    [\n",
        "      layers.Conv2D(32, kernel_size=(3, 3), input_shape=input_shape, activation=\"relu\"),\n",
        "      layers.Flatten(),\n",
        "      layers.Dropout(0.5),\n",
        "      layers.Dense(num_classes, activation=\"softmax\"),\n",
        "    ]\n",
        ")\n",
        "\n",
        "model.compile(loss=\"categorical_crossentropy\", optimizer=\"adam\", metrics=[\"accuracy\"])\n",
        "\n",
        "history = model.fit(x_train, y_train, batch_size=batch_size, epochs=epochs, validation_split=0.1)\n",
        "\n",
        "score = model.evaluate(x_test, y_test, verbose=0)"
      ],
      "id": "vriowc6n2kVf",
      "execution_count": null,
      "outputs": [
        {
          "output_type": "stream",
          "text": [
            "Epoch 1/20\n",
            "211/211 [==============================] - 2s 7ms/step - loss: 2.4859 - accuracy: 0.8945 - val_loss: 0.2347 - val_accuracy: 0.9722\n",
            "Epoch 2/20\n",
            "211/211 [==============================] - 1s 6ms/step - loss: 0.2840 - accuracy: 0.9523 - val_loss: 0.1480 - val_accuracy: 0.9752\n",
            "Epoch 3/20\n",
            "211/211 [==============================] - 1s 6ms/step - loss: 0.1497 - accuracy: 0.9654 - val_loss: 0.1129 - val_accuracy: 0.9770\n",
            "Epoch 4/20\n",
            "211/211 [==============================] - 1s 6ms/step - loss: 0.0982 - accuracy: 0.9732 - val_loss: 0.0973 - val_accuracy: 0.9803\n",
            "Epoch 5/20\n",
            "211/211 [==============================] - 1s 6ms/step - loss: 0.0808 - accuracy: 0.9767 - val_loss: 0.0850 - val_accuracy: 0.9817\n",
            "Epoch 6/20\n",
            "211/211 [==============================] - 1s 6ms/step - loss: 0.0650 - accuracy: 0.9800 - val_loss: 0.0933 - val_accuracy: 0.9802\n",
            "Epoch 7/20\n",
            "211/211 [==============================] - 1s 7ms/step - loss: 0.0574 - accuracy: 0.9816 - val_loss: 0.0887 - val_accuracy: 0.9813\n",
            "Epoch 8/20\n",
            "211/211 [==============================] - 1s 6ms/step - loss: 0.0528 - accuracy: 0.9836 - val_loss: 0.0913 - val_accuracy: 0.9818\n",
            "Epoch 9/20\n",
            "211/211 [==============================] - 1s 6ms/step - loss: 0.0475 - accuracy: 0.9846 - val_loss: 0.0888 - val_accuracy: 0.9815\n",
            "Epoch 10/20\n",
            "211/211 [==============================] - 1s 6ms/step - loss: 0.0417 - accuracy: 0.9862 - val_loss: 0.0861 - val_accuracy: 0.9820\n",
            "Epoch 11/20\n",
            "211/211 [==============================] - 1s 6ms/step - loss: 0.0412 - accuracy: 0.9874 - val_loss: 0.0882 - val_accuracy: 0.9827\n",
            "Epoch 12/20\n",
            "211/211 [==============================] - 1s 6ms/step - loss: 0.0416 - accuracy: 0.9870 - val_loss: 0.0968 - val_accuracy: 0.9818\n",
            "Epoch 13/20\n",
            "211/211 [==============================] - 1s 6ms/step - loss: 0.0407 - accuracy: 0.9873 - val_loss: 0.0989 - val_accuracy: 0.9817\n",
            "Epoch 14/20\n",
            "211/211 [==============================] - 1s 7ms/step - loss: 0.0371 - accuracy: 0.9881 - val_loss: 0.1011 - val_accuracy: 0.9823\n",
            "Epoch 15/20\n",
            "211/211 [==============================] - 1s 6ms/step - loss: 0.0410 - accuracy: 0.9868 - val_loss: 0.0973 - val_accuracy: 0.9815\n",
            "Epoch 16/20\n",
            "211/211 [==============================] - 1s 6ms/step - loss: 0.0364 - accuracy: 0.9889 - val_loss: 0.0936 - val_accuracy: 0.9837\n",
            "Epoch 17/20\n",
            "211/211 [==============================] - 1s 7ms/step - loss: 0.0392 - accuracy: 0.9882 - val_loss: 0.1173 - val_accuracy: 0.9800\n",
            "Epoch 18/20\n",
            "211/211 [==============================] - 1s 7ms/step - loss: 0.0348 - accuracy: 0.9887 - val_loss: 0.1388 - val_accuracy: 0.9747\n",
            "Epoch 19/20\n",
            "211/211 [==============================] - 1s 6ms/step - loss: 0.0376 - accuracy: 0.9884 - val_loss: 0.1233 - val_accuracy: 0.9807\n",
            "Epoch 20/20\n",
            "211/211 [==============================] - 1s 6ms/step - loss: 0.0345 - accuracy: 0.9892 - val_loss: 0.1093 - val_accuracy: 0.9830\n"
          ],
          "name": "stdout"
        }
      ]
    },
    {
      "cell_type": "code",
      "metadata": {
        "id": "bHvq9dOM5Br3",
        "colab": {
          "base_uri": "https://localhost:8080/",
          "height": 513
        },
        "outputId": "0c49000d-7d7f-43da-a9ed-d0ecb1d81704"
      },
      "source": [
        "history_frame = pd.DataFrame(history.history)\n",
        "history_frame.loc[:, ['loss', 'val_loss']].plot()\n",
        "history_frame.loc[:, ['accuracy', 'val_accuracy']].plot();"
      ],
      "id": "bHvq9dOM5Br3",
      "execution_count": null,
      "outputs": [
        {
          "output_type": "display_data",
          "data": {
            "image/png": "[encoded data removed]",
            "text/plain": [
              "<Figure size 432x288 with 1 Axes>"
            ]
          },
          "metadata": {
            "tags": [],
            "needs_background": "light"
          }
        },
        {
          "output_type": "display_data",
          "data": {
            "image/png": "[encoded data removed]",
            "text/plain": [
              "<Figure size 432x288 with 1 Axes>"
            ]
          },
          "metadata": {
            "tags": [],
            "needs_background": "light"
          }
        }
      ]
    },
    {
      "cell_type": "code",
      "metadata": {
        "id": "gnbJZhol50f1",
        "colab": {
          "base_uri": "https://localhost:8080/"
        },
        "outputId": "3087a2ca-7fac-49ab-a41a-a8e54bd62db7"
      },
      "source": [
        "score = model.evaluate(x_test, y_test, verbose=0)\n",
        "print(\"Loss: {} \".format(score[0]))\n",
        "print(\"Accuracy: {} \".format(score[1]))"
      ],
      "id": "gnbJZhol50f1",
      "execution_count": null,
      "outputs": [
        {
          "output_type": "stream",
          "text": [
            "Loss: 0.1264030635356903 \n",
            "Accuracy: 0.9785000085830688 \n"
          ],
          "name": "stdout"
        }
      ]
    },
    {
      "cell_type": "code",
      "metadata": {
        "id": "x1KmMgnm8fA8"
      },
      "source": [
        ""
      ],
      "id": "x1KmMgnm8fA8",
      "execution_count": null,
      "outputs": []
    }
  ]
}